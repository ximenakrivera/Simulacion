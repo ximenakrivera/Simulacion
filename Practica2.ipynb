{
  "nbformat": 4,
  "nbformat_minor": 0,
  "metadata": {
    "colab": {
      "provenance": [],
      "authorship_tag": "ABX9TyPubyjSG5iLeyZjNUNuv7Gi",
      "include_colab_link": true
    },
    "kernelspec": {
      "name": "python3",
      "display_name": "Python 3"
    },
    "language_info": {
      "name": "python"
    }
  },
  "cells": [
    {
      "cell_type": "markdown",
      "metadata": {
        "id": "view-in-github",
        "colab_type": "text"
      },
      "source": [
        "<a href=\"https://colab.research.google.com/github/ximenakrivera/Simulacion/blob/main/Practica2.ipynb\" target=\"_parent\"><img src=\"https://colab.research.google.com/assets/colab-badge.svg\" alt=\"Open In Colab\"/></a>"
      ]
    },
    {
      "cell_type": "code",
      "execution_count": 2,
      "metadata": {
        "colab": {
          "base_uri": "https://localhost:8080/",
          "height": 0
        },
        "id": "6rDtwzHhpd9k",
        "outputId": "80fc5b75-7507-4ca0-9124-d9cdad0fa89b"
      },
      "outputs": [
        {
          "output_type": "stream",
          "name": "stdout",
          "text": [
            "Estadístico KS: 0.05429284340701998\n",
            "Valor p: 0.9140675096356883\n",
            "No se rechaza la hipótesis nula: los datos parecen provenir de una distribución uniforme.\n"
          ]
        }
      ],
      "source": [
        "import numpy as np\n",
        "import scipy.stats as stats\n",
        "\n",
        "def lcg(a, c, m, seed, n):\n",
        "    \"\"\"Generador de números aleatorios Congruencial Lineal\"\"\"\n",
        "    random_numbers = []\n",
        "    x = seed\n",
        "    for _ in range(n):\n",
        "        x = (a * x + c) % m\n",
        "        random_numbers.append(x / m) #[0,1]\n",
        "    return random_numbers\n",
        "\n",
        "\n",
        "a = 1664525\n",
        "c = 1013904223\n",
        "m = 2**32\n",
        "seed = 5738\n",
        "n = 100\n",
        "\n",
        "random_numbers = lcg(a, c, m, seed, n)\n",
        "\n",
        "# Prueba de Kolmogorov-Smirnov\n",
        "ks_statistic, p_value = stats.kstest(random_numbers, 'uniform')\n",
        "\n",
        "print(f\"Estadístico KS: {ks_statistic}\")\n",
        "print(f\"Valor p: {p_value}\")\n",
        "\n",
        "# Interpretación del resultado\n",
        "alpha = 0.05\n",
        "if p_value > alpha:\n",
        "    print(\"No se rechaza la hipótesis nula: los datos parecen provenir de una distribución uniforme.\")\n",
        "else:\n",
        "    print(\"Se rechaza la hipótesis nula: los datos no parecen provenir de una distribución uniforme.\")\n"
      ]
    }
  ]
}