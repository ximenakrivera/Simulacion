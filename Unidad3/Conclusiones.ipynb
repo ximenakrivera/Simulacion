{
  "nbformat": 4,
  "nbformat_minor": 0,
  "metadata": {
    "colab": {
      "provenance": [],
      "authorship_tag": "ABX9TyOtEQZKZwLcnaqjwYYawvhz",
      "include_colab_link": true
    },
    "kernelspec": {
      "name": "python3",
      "display_name": "Python 3"
    },
    "language_info": {
      "name": "python"
    }
  },
  "cells": [
    {
      "cell_type": "markdown",
      "metadata": {
        "id": "view-in-github",
        "colab_type": "text"
      },
      "source": [
        "<a href=\"https://colab.research.google.com/github/ximenakrivera/Simulacion/blob/main/Unidad3/Conclusiones.ipynb\" target=\"_parent\"><img src=\"https://colab.research.google.com/assets/colab-badge.svg\" alt=\"Open In Colab\"/></a>"
      ]
    },
    {
      "cell_type": "code",
      "execution_count": null,
      "metadata": {
        "id": "pd4abB1uDkIP"
      },
      "outputs": [],
      "source": []
    },
    {
      "cell_type": "markdown",
      "source": [],
      "metadata": {
        "id": "ZfG8YkY4Dtk3"
      }
    },
    {
      "cell_type": "markdown",
      "source": [
        "### **beneficios de uso de variables aleatorias**"
      ],
      "metadata": {
        "id": "QzDqBg23Dnx2"
      }
    },
    {
      "cell_type": "markdown",
      "source": [
        "La simulación realizada permite comprender de manera detallada la cantidad de pedidos que el distribuidor logra satisfacer diariamente.\n",
        " A través de la distribución binomial, se obtiene un modelo probabilístico que refleja las fluctuaciones diarias en la disponibilidad de productos,\n",
        " permitiendo predecir con mayor precisión la cantidad de pedidos que pueden ser atendidos de manera efectiva.\n",
        " Esta información es crucial para la gestión del inventario, ya que posibilita una mejor planificación de los recursos y evita escenarios de desabasto o sobrealmacenamiento.\n",
        " Al conocer de antemano la distribución esperada de pedidos satisfechos, el distribuidor puede tomar decisiones informadas para optimizar la cadena de suministro,\n",
        " reducir costos operativos y mejorar la satisfacción del cliente.\n",
        "\n",
        " En conclusión, el uso de simulaciones basadas en variables aleatorias ofrece una herramienta poderosa para el análisis y toma de decisiones en entornos empresariales.\n",
        " Gracias a esta metodología, las empresas pueden anticipar situaciones de demanda y ajustar sus estrategias de abastecimiento,\n",
        "logrando un equilibrio eficiente entre disponibilidad de productos y costos logísticos.\n"
      ],
      "metadata": {
        "id": "ZPYhkOBFDx9p"
      }
    },
    {
      "cell_type": "code",
      "source": [],
      "metadata": {
        "id": "hDmyEeFcDv10"
      },
      "execution_count": null,
      "outputs": []
    },
    {
      "cell_type": "markdown",
      "source": [],
      "metadata": {
        "id": "Kx6rbDneDwW4"
      }
    }
  ]
}